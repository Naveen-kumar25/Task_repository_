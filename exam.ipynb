{
 "cells": [
  {
   "cell_type": "code",
   "execution_count": 1,
   "metadata": {},
   "outputs": [
    {
     "name": "stdout",
     "output_type": "stream",
     "text": [
      "[1, 2, 3, 4, 5, 6, 7]\n"
     ]
    }
   ],
   "source": [
    "#first question code 1\n",
    "def duplicates_in_a_list(li):\n",
    "    new = []\n",
    "    for i in li:\n",
    "        if i not in new:\n",
    "            new.append(i)\n",
    "    return new\n",
    "\n",
    "\n",
    "li = [1, 2, 3, 3, 2, 1, 4, 5, 6, 7]\n",
    "\n",
    "\n",
    "\n",
    "res = duplicates_in_a_list(li)\n",
    "print(res)\n",
    "          "
   ]
  },
  {
   "cell_type": "code",
   "execution_count": 5,
   "metadata": {},
   "outputs": [
    {
     "name": "stdout",
     "output_type": "stream",
     "text": [
      "[4, 5, 6, 7]\n"
     ]
    }
   ],
   "source": [
    "#second question code 2\n",
    "def non_repeating(list1):\n",
    "    count_dict = {}\n",
    "    new = []\n",
    "    for i in list1:\n",
    "        if i in count_dict:\n",
    "            count_dict[i] += 1\n",
    "            # print(count_dict)\n",
    "        else:\n",
    "            count_dict[i] = 1\n",
    "            # print(count_dict)\n",
    "    for i in list1:\n",
    "        if count_dict[i] == 1:\n",
    "            new.append(i)\n",
    "    print(new)\n",
    "\n",
    "list1 = [1, 2, 3, 3, 2, 1, 4, 5, 6, 7]\n",
    "non_repeating(list1)\n"
   ]
  },
  {
   "cell_type": "code",
   "execution_count": 6,
   "metadata": {},
   "outputs": [
    {
     "name": "stdout",
     "output_type": "stream",
     "text": [
      "[1, 2, 3]\n"
     ]
    }
   ],
   "source": [
    "#third question code 3\n",
    "def find_repeating_elements(list1):\n",
    "    \n",
    "  repeats = []\n",
    "  for i in range(len(list1)):\n",
    "    for j in range(i + 1, len(list1)):\n",
    "      if list1[i] == list1[j] and list1[i] not in repeats:\n",
    "        repeats.append(list1[i])\n",
    "  print(repeats)\n",
    "\n",
    "list1 = [1, 2, 3, 3, 2, 1, 4, 5, 6, 7]\n",
    "find_repeating_elements(list1)"
   ]
  },
  {
   "cell_type": "code",
   "execution_count": 7,
   "metadata": {},
   "outputs": [
    {
     "name": "stdout",
     "output_type": "stream",
     "text": [
      "34\n",
      "30240\n"
     ]
    }
   ],
   "source": [
    "#sixth question code 6\n",
    "\n",
    "def compute(list1, compute_type):\n",
    "    s = 0\n",
    "    m = 1\n",
    "    if compute_type == \"SUM\":\n",
    "        for i in list1:\n",
    "            s += i \n",
    "        print(s)\n",
    "      \n",
    "    \n",
    "    elif compute_type == \"MULTIPLY\":\n",
    "        for i in list1:\n",
    "            m *= i \n",
    "        print(m)\n",
    "    \n",
    "    \n",
    "list1 = [1, 2, 3, 3, 2, 1, 4, 5, 6, 7]\n",
    "\n",
    "summ = compute(list1, \"SUM\")\n",
    "product = compute(list1, \"MULTIPLY\")"
   ]
  },
  {
   "cell_type": "code",
   "execution_count": 8,
   "metadata": {},
   "outputs": [
    {
     "name": "stdout",
     "output_type": "stream",
     "text": [
      "330\n"
     ]
    }
   ],
   "source": [
    "#nineth question code 9\n",
    "\n",
    "\n",
    "def sum_of_first_n_highest_elements(list1, n):\n",
    "    list1.sort(reverse=True)\n",
    "    summ = 0\n",
    "    for i in range(n):\n",
    "        summ += list1[i]\n",
    "    print(summ)\n",
    "\n",
    "li = [5, 6, -100, 200, 2, -500, 20, 30, 100]\n",
    "number = 3\n",
    "\n",
    "sum_of_first_n_highest_elements(li,number)\n"
   ]
  },
  {
   "cell_type": "code",
   "execution_count": 9,
   "metadata": {},
   "outputs": [
    {
     "name": "stdout",
     "output_type": "stream",
     "text": [
      "{'a': 1, 'p': 2, 'l': 1, 'e': 1}\n"
     ]
    }
   ],
   "source": [
    "#10 question code\n",
    "\n",
    "\n",
    "def repeating_chars(string):\n",
    "    char_count = {}\n",
    "    for char in string:\n",
    "        if char not in char_count:\n",
    "            char_count[char] = 0\n",
    "        char_count[char] += 1\n",
    "\n",
    "    print(char_count)\n",
    "\n",
    "\n",
    "\n",
    "\n",
    "string = \"apple\"\n",
    " \n",
    "repeating_chars(string,)\n"
   ]
  },
  {
   "cell_type": "code",
   "execution_count": 10,
   "metadata": {},
   "outputs": [
    {
     "name": "stdout",
     "output_type": "stream",
     "text": [
      "3\n"
     ]
    }
   ],
   "source": [
    "# 13 question code\n",
    "\n",
    "\n",
    "def nth_highest_elements(list1, n):\n",
    "    list1.sort(reverse=True)\n",
    "    print(list1[n-1])\n",
    "li = [1,2,3,4]\n",
    "number = 2\n",
    "\n",
    "nth_highest_elements(li,number)\n"
   ]
  },
  {
   "cell_type": "code",
   "execution_count": null,
   "metadata": {},
   "outputs": [],
   "source": []
  },
  {
   "cell_type": "code",
   "execution_count": 11,
   "metadata": {},
   "outputs": [
    {
     "name": "stdout",
     "output_type": "stream",
     "text": [
      "['a', 'l', 'e']\n"
     ]
    }
   ],
   "source": [
    "#11 question code \n",
    "\n",
    "def repeating_chars(string, n):\n",
    "    char_count = {}\n",
    "    for char in string:\n",
    "        if char not in char_count:\n",
    "            char_count[char] = 0\n",
    "        char_count[char] += 1\n",
    "\n",
    "  \n",
    "    repeating_chars = []\n",
    "    for char, count in char_count.items():\n",
    "        if count == n:\n",
    "            repeating_chars.append(char)\n",
    "\n",
    "    print(repeating_chars)\n",
    "\n",
    "\n",
    "\n",
    "string = \"apple\"\n",
    "n = 1 \n",
    "repeating_chars(string,n)\n",
    " "
   ]
  }
 ],
 "metadata": {
  "kernelspec": {
   "display_name": "Python 3",
   "language": "python",
   "name": "python3"
  },
  "language_info": {
   "codemirror_mode": {
    "name": "ipython",
    "version": 3
   },
   "file_extension": ".py",
   "mimetype": "text/x-python",
   "name": "python",
   "nbconvert_exporter": "python",
   "pygments_lexer": "ipython3",
   "version": "3.10.11"
  }
 },
 "nbformat": 4,
 "nbformat_minor": 2
}
